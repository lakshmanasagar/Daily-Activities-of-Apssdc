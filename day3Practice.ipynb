{
 "cells": [
  {
   "cell_type": "markdown",
   "metadata": {},
   "source": [
    "# Today Concepts\n",
    "### 16-09-2020\n",
    "#### Jupyter Installation\n",
    "- to install jupyter we have to run a command...i.e., \"pyp install jupyter\"\n",
    "- to open jupyter notebook we have to run a command...i.e., jupyter notebook\n",
    "\n",
    "### Main Heading\n",
    "- #### Sub Heading 1\n",
    "    - #### Sub Heading 2 \n",
    "        - #### Sub Heading 3\n",
    "<h2>h2 Tag</h2>\n",
    "<p>P Tag</p>\n",
    "<a href='#'>Anchor Tag</a>\n",
    "<img src='python.jpg'>\n",
    "<table border='1'>\n",
    "    <tr>\n",
    "        <td>\n",
    "            Lakshmana Sagar\n",
    "        </td>\n",
    "        <td>\n",
    "            Tenali\n",
    "        </td>\n",
    "    </tr>\n",
    "    <tr>\n",
    "        <td>\n",
    "            Naga Raju\n",
    "        </td>\n",
    "        <td>\n",
    "            Mylavaram\n",
    "        </td>\n",
    "    </tr>\n",
    "    </table>"
   ]
  },
  {
   "cell_type": "code",
   "execution_count": 7,
   "metadata": {},
   "outputs": [
    {
     "name": "stdout",
     "output_type": "stream",
     "text": [
      "hi\n",
      "hello\n",
      "welcome to jupyter\n"
     ]
    },
    {
     "data": {
      "text/plain": [
       "10"
      ]
     },
     "execution_count": 7,
     "metadata": {},
     "output_type": "execute_result"
    }
   ],
   "source": [
    "print(\"hi\")\n",
    "print(\"hello\")\n",
    "45+45\n",
    "print(\"welcome to jupyter\")\n",
    "6+4\n"
   ]
  },
  {
   "cell_type": "markdown",
   "metadata": {},
   "source": [
    "# Lakshmana Sagar Akurathi "
   ]
  },
  {
   "cell_type": "code",
   "execution_count": null,
   "metadata": {},
   "outputs": [],
   "source": [
    " "
   ]
  }
 ],
 "metadata": {
  "kernelspec": {
   "display_name": "Python 3",
   "language": "python",
   "name": "python3"
  },
  "language_info": {
   "codemirror_mode": {
    "name": "ipython",
    "version": 3
   },
   "file_extension": ".py",
   "mimetype": "text/x-python",
   "name": "python",
   "nbconvert_exporter": "python",
   "pygments_lexer": "ipython3",
   "version": "3.7.4"
  }
 },
 "nbformat": 4,
 "nbformat_minor": 4
}
