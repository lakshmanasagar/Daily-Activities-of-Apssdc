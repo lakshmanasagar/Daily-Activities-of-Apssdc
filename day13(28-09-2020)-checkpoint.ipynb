{
 "cells": [
  {
   "cell_type": "code",
   "execution_count": 1,
   "metadata": {},
   "outputs": [
    {
     "name": "stdout",
     "output_type": "stream",
     "text": [
      "enter a range:3\n",
      "enter a value:56\n",
      "enter a value:78\n",
      "enter a value:98\n",
      "[56, 78, 98]\n"
     ]
    }
   ],
   "source": [
    "# Dynamic list creation\n",
    "# li=[] or li=list() -->empty list\n",
    "# input:enter a range: 5\n",
    "#[1,2,3,4,67]\n",
    "li = []\n",
    "n = int(input(\"enter a range:\"))\n",
    "for i in range(n):\n",
    "    val = int(input(\"enter a value:\"))\n",
    "    li.append(val)                 #method to specify store values in list\n",
    "print(li)\n"
   ]
  },
  {
   "cell_type": "code",
   "execution_count": 2,
   "metadata": {},
   "outputs": [
    {
     "name": "stdout",
     "output_type": "stream",
     "text": [
      "enter a range:8\n",
      "enter values:12\n",
      "enter values:34\n",
      "enter values:4\n",
      "enter values:55\n",
      "enter values:75\n",
      "enter values:456\n",
      "enter values:23\n",
      "enter values:232\n",
      "[12, 34, 4, 55, 75, 456, 23, 232]\n"
     ]
    }
   ],
   "source": [
    "# li = [12,34,44,55,75,23,456,232]\n",
    "#o/p:[12,34,44,456,232]\n",
    "#printsum([12,34,44,456,232])\n",
    "li = []\n",
    "n = int(input(\"enter a range:\"))\n",
    "for i in range(n):\n",
    "    val = int(input(\"enter values:\"))\n",
    "    li.append(val)\n",
    "print(li)\n"
   ]
  },
  {
   "cell_type": "code",
   "execution_count": 3,
   "metadata": {},
   "outputs": [
    {
     "name": "stdout",
     "output_type": "stream",
     "text": [
      "[12, 34, 44, 456, 232]\n"
     ]
    }
   ],
   "source": [
    "li = [12,34,44,55,75,23,456,232]\n",
    "#o/p:[12,34,44,456,232]\n",
    "#printsum([12,34,44,456,232])\n",
    "eli = []\n",
    "for val in li:\n",
    "    if val%2==0:\n",
    "        eli.append(val)\n",
    "print(eli)\n"
   ]
  },
  {
   "cell_type": "code",
   "execution_count": 4,
   "metadata": {},
   "outputs": [
    {
     "name": "stdout",
     "output_type": "stream",
     "text": [
      "[12, 34, 44, 456, 232]\n",
      "778\n"
     ]
    }
   ],
   "source": [
    "li = [12,34,44,55,75,23,456,232]\n",
    "eli = []\n",
    "for val in li:\n",
    "    if val%2==0:\n",
    "        eli.append(val)\n",
    "print(eli)\n",
    "sm=0\n",
    "for i in eli:\n",
    "    sm += i\n",
    "print(sm)\n"
   ]
  },
  {
   "cell_type": "code",
   "execution_count": 5,
   "metadata": {},
   "outputs": [
    {
     "name": "stdout",
     "output_type": "stream",
     "text": [
      "[12, 34, 44, 456, 232]\n",
      "778\n"
     ]
    }
   ],
   "source": [
    "li = [12,34,44,55,75,23,456,232]\n",
    "eli = []\n",
    "for val in li:\n",
    "    if val%2==0:\n",
    "        eli.append(val)\n",
    "print(eli)\n",
    "print(sum(eli))   #sum() is a predefined one\n"
   ]
  },
  {
   "cell_type": "markdown",
   "metadata": {},
   "source": [
    "### Remove the duplicate elements in a list\n",
    " - in registration we use it\n"
   ]
  },
  {
   "cell_type": "code",
   "execution_count": 6,
   "metadata": {},
   "outputs": [
    {
     "name": "stdout",
     "output_type": "stream",
     "text": [
      "11 22 11 22 25 23 25 36 39 42 "
     ]
    }
   ],
   "source": [
    "li = [11,22,11,22,25,23,25,36,39,42]\n",
    "for i in li:\n",
    "    print(i,end=\" \")\n"
   ]
  },
  {
   "cell_type": "code",
   "execution_count": 7,
   "metadata": {},
   "outputs": [
    {
     "name": "stdout",
     "output_type": "stream",
     "text": [
      "[11, 22, 25, 23, 39, 42]\n"
     ]
    }
   ],
   "source": [
    "li = [11,22,11,22,25,23,25,39,39,42]\n",
    "li2 = []\n",
    "for i in li:\n",
    "   # print(i,end=\" \")\n",
    "   if i not in li2:\n",
    "        li2.append(i)       #li2=[11,22,25,23,39,42]\n",
    "print(li2)\n"
   ]
  },
  {
   "cell_type": "code",
   "execution_count": null,
   "metadata": {},
   "outputs": [],
   "source": []
  }
 ],
 "metadata": {
  "kernelspec": {
   "display_name": "Python 3",
   "language": "python",
   "name": "python3"
  },
  "language_info": {
   "codemirror_mode": {
    "name": "ipython",
    "version": 3
   },
   "file_extension": ".py",
   "mimetype": "text/x-python",
   "name": "python",
   "nbconvert_exporter": "python",
   "pygments_lexer": "ipython3",
   "version": "3.7.4"
  }
 },
 "nbformat": 4,
 "nbformat_minor": 4
}
