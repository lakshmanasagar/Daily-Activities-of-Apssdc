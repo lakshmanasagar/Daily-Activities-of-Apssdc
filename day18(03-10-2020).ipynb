{
 "cells": [
  {
   "cell_type": "code",
   "execution_count": 1,
   "metadata": {},
   "outputs": [
    {
     "name": "stdout",
     "output_type": "stream",
     "text": [
      "enter a value : 2\n",
      "enter b value : 20\n",
      "2 3 5 7 11 13 17 19 "
     ]
    }
   ],
   "source": [
    "# print the inbetween prime numbers\n",
    "\n",
    "a = int(input(\"enter a value : \"))\n",
    "b = int(input(\"enter b value : \"))\n",
    "\n",
    "for n in range(a, b + 1):\n",
    "    if (n > 1):\n",
    "        c=0\n",
    "        for m in range(2, n):\n",
    "            if ((n % m) == 0):\n",
    "                c=c+1\n",
    "        if(c==0):\n",
    "            print(n,end=\" \")\n",
    "    else:\n",
    "        print(\"enter starting number from 2\")"
   ]
  },
  {
   "cell_type": "code",
   "execution_count": 4,
   "metadata": {},
   "outputs": [
    {
     "name": "stdout",
     "output_type": "stream",
     "text": [
      "enter a stringone\n",
      "enter another stringtwo\n",
      "newo\n"
     ]
    }
   ],
   "source": [
    "# Given two strings, return their concatenation, except omit the fisrt char of each\n",
    "# ex : one two -> newo; bhanu prakesh -> hanuprakesh\n",
    "# take two strings ex: one two o/p : newo\n",
    "s=input(\"enter a string\")\n",
    "s1=input(\"enter another string\")\n",
    "s3=s[1:]+s1[1:]\n",
    "print(s3)"
   ]
  },
  {
   "cell_type": "code",
   "execution_count": 6,
   "metadata": {},
   "outputs": [
    {
     "data": {
      "text/plain": [
       "'pssdc'"
      ]
     },
     "execution_count": 6,
     "metadata": {},
     "output_type": "execute_result"
    }
   ],
   "source": [
    "s=\"apssdc\"\n",
    "#\"pssdc\"\n",
    "s[1:]"
   ]
  },
  {
   "cell_type": "code",
   "execution_count": 7,
   "metadata": {},
   "outputs": [
    {
     "data": {
      "text/plain": [
       "'ssdc'"
      ]
     },
     "execution_count": 7,
     "metadata": {},
     "output_type": "execute_result"
    }
   ],
   "source": [
    "s[2:]"
   ]
  },
  {
   "cell_type": "code",
   "execution_count": 9,
   "metadata": {},
   "outputs": [
    {
     "name": "stdout",
     "output_type": "stream",
     "text": [
      "enter a stringone\n",
      "enter second stringtwo\n"
     ]
    },
    {
     "data": {
      "text/plain": [
       "'newo'"
      ]
     },
     "execution_count": 9,
     "metadata": {},
     "output_type": "execute_result"
    }
   ],
   "source": [
    "def concat(s,s1):\n",
    "    s2=s[1:]+s1[1:]\n",
    "    return s2\n",
    "concat(input(\"enter a string\"),input(\"enter second string\"))"
   ]
  },
  {
   "cell_type": "code",
   "execution_count": 10,
   "metadata": {},
   "outputs": [],
   "source": [
    "f=open(\"file.txt\",\"w\")\n",
    "data=\"Hi Hello Hi Hello everyone\"\n",
    "f.write(data)\n",
    "f.close()"
   ]
  },
  {
   "cell_type": "code",
   "execution_count": 12,
   "metadata": {},
   "outputs": [
    {
     "name": "stdout",
     "output_type": "stream",
     "text": [
      "['Hi Hello Hi Hello everyone']\n",
      "['Hi', 'Hello', 'Hi', 'Hello', 'everyone']\n",
      "{'Hi': 2, 'Hello': 2, 'everyone': 1}\n"
     ]
    }
   ],
   "source": [
    "d={}\n",
    "f=open(\"file.txt\",\"r\")\n",
    "data=f.readlines()\n",
    "print(data)\n",
    "for line in data:\n",
    "    words=line.split()\n",
    "    print(words)\n",
    "    for word in words:\n",
    "        if word not in d:\n",
    "            d[word]=1\n",
    "        else:\n",
    "            d[word]+=1\n",
    "print(d)\n",
    "f.close()"
   ]
  },
  {
   "cell_type": "code",
   "execution_count": 13,
   "metadata": {},
   "outputs": [],
   "source": [
    "# range as 3\n",
    "# 10\n",
    "# 20\n",
    "# 30\n",
    "# 60"
   ]
  },
  {
   "cell_type": "code",
   "execution_count": 19,
   "metadata": {},
   "outputs": [
    {
     "name": "stdout",
     "output_type": "stream",
     "text": [
      "enter a data23\n",
      "enter a data34\n",
      "enter a data56\n"
     ]
    }
   ],
   "source": [
    "for i in range (3):\n",
    "    f=open(\"su.txt\",\"a\")\n",
    "    f.write((input(\"enter a data\"))+\"\\n\")\n",
    "    f.close()"
   ]
  },
  {
   "cell_type": "code",
   "execution_count": 20,
   "metadata": {},
   "outputs": [
    {
     "data": {
      "text/plain": [
       "23"
      ]
     },
     "execution_count": 20,
     "metadata": {},
     "output_type": "execute_result"
    }
   ],
   "source": [
    "a=\"23\"\n",
    "int(a)"
   ]
  },
  {
   "cell_type": "code",
   "execution_count": 26,
   "metadata": {},
   "outputs": [
    {
     "name": "stdout",
     "output_type": "stream",
     "text": [
      "['23\\n', '34\\n', '56\\n'] line by line\n",
      "23\n",
      " number\n",
      "34\n",
      " number\n",
      "56\n",
      " number\n",
      "total sum is: 113\n"
     ]
    }
   ],
   "source": [
    "s = 0\n",
    "f = open(\"su.txt\",\"r\")\n",
    "data = f.readlines()\n",
    "print(data,\"line by line\")\n",
    "for ele in data:\n",
    "    print(ele,\"number\")\n",
    "    s = int(ele) + s\n",
    "print(\"total sum is:\",s)\n",
    "f.close()"
   ]
  },
  {
   "cell_type": "code",
   "execution_count": null,
   "metadata": {},
   "outputs": [],
   "source": []
  }
 ],
 "metadata": {
  "kernelspec": {
   "display_name": "Python 3",
   "language": "python",
   "name": "python3"
  },
  "language_info": {
   "codemirror_mode": {
    "name": "ipython",
    "version": 3
   },
   "file_extension": ".py",
   "mimetype": "text/x-python",
   "name": "python",
   "nbconvert_exporter": "python",
   "pygments_lexer": "ipython3",
   "version": "3.7.4"
  }
 },
 "nbformat": 4,
 "nbformat_minor": 4
}
