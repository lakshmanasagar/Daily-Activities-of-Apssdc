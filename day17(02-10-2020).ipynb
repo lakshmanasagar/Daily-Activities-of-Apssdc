{
 "cells": [
  {
   "cell_type": "code",
   "execution_count": 9,
   "metadata": {},
   "outputs": [
    {
     "ename": "SyntaxError",
     "evalue": "invalid syntax (<ipython-input-9-187d2795a39e>, line 3)",
     "output_type": "error",
     "traceback": [
      "\u001b[1;36m  File \u001b[1;32m\"<ipython-input-9-187d2795a39e>\"\u001b[1;36m, line \u001b[1;32m3\u001b[0m\n\u001b[1;33m    s=0\u001b[0m\n\u001b[1;37m    ^\u001b[0m\n\u001b[1;31mSyntaxError\u001b[0m\u001b[1;31m:\u001b[0m invalid syntax\n"
     ]
    }
   ],
   "source": [
    "# find the sum of digits ex:123->1+2+3=6\n",
    "n=int(input(\"enter a number\") \n",
    "s=0\n",
    "while(n>0):  # 1>0\n",
    "    r=n%10   # r=1%10  -> 1\n",
    "    s=s+r  # su=0+3   -> 3+2 -> 5+1 -> 6\n",
    "    n=n//10  # n=1//10 -> 0\n",
    "print(\"sum of digits is\",s)"
   ]
  },
  {
   "cell_type": "code",
   "execution_count": 2,
   "metadata": {},
   "outputs": [
    {
     "data": {
      "text/plain": [
       "3"
      ]
     },
     "execution_count": 2,
     "metadata": {},
     "output_type": "execute_result"
    }
   ],
   "source": [
    "123%10\n"
   ]
  },
  {
   "cell_type": "code",
   "execution_count": 3,
   "metadata": {},
   "outputs": [
    {
     "data": {
      "text/plain": [
       "12"
      ]
     },
     "execution_count": 3,
     "metadata": {},
     "output_type": "execute_result"
    }
   ],
   "source": [
    "123//10"
   ]
  },
  {
   "cell_type": "code",
   "execution_count": 4,
   "metadata": {},
   "outputs": [
    {
     "data": {
      "text/plain": [
       "1"
      ]
     },
     "execution_count": 4,
     "metadata": {},
     "output_type": "execute_result"
    }
   ],
   "source": [
    "1%10"
   ]
  },
  {
   "cell_type": "code",
   "execution_count": 8,
   "metadata": {},
   "outputs": [
    {
     "name": "stdout",
     "output_type": "stream",
     "text": [
      "enter a number1234\n",
      "count of number is 4\n"
     ]
    }
   ],
   "source": [
    "# s=\"123\" -> count the number of digits -> 3 ; \"4567\" -> 4\n",
    "s=input(\"enter a number\")\n",
    "n=int(s)\n",
    "c=0\n",
    "while(n>0):\n",
    "    r=n%10\n",
    "    c=c+1\n",
    "    n=n//10\n",
    "print(\"count of number is\",c)"
   ]
  },
  {
   "cell_type": "code",
   "execution_count": 11,
   "metadata": {},
   "outputs": [
    {
     "name": "stdout",
     "output_type": "stream",
     "text": [
      "Enter a number:121\n",
      "Palindrome\n"
     ]
    }
   ],
   "source": [
    "# find the given number is palindrome or not\n",
    "# 212 -> 212 (Palindrome) , 123 -> 321 (not Palindrome)\n",
    "n=int(input(\"Enter a number:\"))\n",
    "temp=n\n",
    "rev=0\n",
    "while(n>0):\n",
    "    a=n%10\n",
    "    rev=rev*10+a\n",
    "    n=n//10\n",
    "if(temp==rev):\n",
    "    print(\"Palindrome\")\n",
    "else:\n",
    "    print(\"Not Palindrome\")"
   ]
  },
  {
   "cell_type": "code",
   "execution_count": 15,
   "metadata": {},
   "outputs": [
    {
     "name": "stdout",
     "output_type": "stream",
     "text": [
      "enter a number : 07022003\n",
      "Single digit of a given number is 5\n"
     ]
    }
   ],
   "source": [
    "# sum the given digits upto get single digit\n",
    "# 2301 -> 2+3+0+1 -> 6\n",
    "# 1996 -> 1+9+9+6 -> 25 -> 2+5 -> 7\n",
    "\n",
    "n=int(input(\"enter a number : \"))\n",
    "s=0\n",
    "while(n>0 or s>9):\n",
    "    if(n==0):\n",
    "        n=s\n",
    "        s=0\n",
    "    r=n%10\n",
    "    s=s+r\n",
    "    n=n//10\n",
    "print(\"Single digit of a given number is\",s )"
   ]
  },
  {
   "cell_type": "code",
   "execution_count": 17,
   "metadata": {},
   "outputs": [
    {
     "name": "stdout",
     "output_type": "stream",
     "text": [
      "Enter a number: 153\n",
      "Armstrong number\n"
     ]
    }
   ],
   "source": [
    "#find the given number is armstrong or not\n",
    "# sum of cubes of individual number is equal to the given number is armstrong number\n",
    "# 153 -> 1*1*1 + 5*5*5 + 3*3*3 -> 1+125+27 -> 153\n",
    "# 1634 -> 1*1*1*1 + 6*6*6*6 + 3*3*3*3 + 4*4*4*4 \n",
    "\n",
    "n=int(input(\"Enter a number: \"))\n",
    "sum=0\n",
    "temp = n\n",
    "while (temp > 0):\n",
    "    a = temp % 10\n",
    "    sum += a ** 3\n",
    "    temp = temp// 10\n",
    "if (n == sum):\n",
    "    print(\"Armstrong number\")\n",
    "else:\n",
    "    print(\"not an Armstrong number\")"
   ]
  },
  {
   "cell_type": "code",
   "execution_count": null,
   "metadata": {},
   "outputs": [],
   "source": []
  }
 ],
 "metadata": {
  "kernelspec": {
   "display_name": "Python 3",
   "language": "python",
   "name": "python3"
  },
  "language_info": {
   "codemirror_mode": {
    "name": "ipython",
    "version": 3
   },
   "file_extension": ".py",
   "mimetype": "text/x-python",
   "name": "python",
   "nbconvert_exporter": "python",
   "pygments_lexer": "ipython3",
   "version": "3.7.4"
  }
 },
 "nbformat": 4,
 "nbformat_minor": 4
}
