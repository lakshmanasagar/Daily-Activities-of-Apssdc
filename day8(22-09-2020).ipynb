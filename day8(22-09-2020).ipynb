{
 "cells": [
  {
   "cell_type": "markdown",
   "metadata": {},
   "source": [
    "### Today's Logics :\n",
    "- To check wheather given year is leap year or not?\n",
    "- To check wheather given character is vowel or consonant?\n",
    "- To check wheather given two values are eqaul or not?\n",
    "- To find biggest of two numbers?\n",
    "- To find the biggest of three numbers?\n",
    "- To calculate the student grading system?\n",
    "- To print the 1 to n natural numbers in increment order?\n",
    "- To print the 1 to n natural numbers in decrement order?\n",
    "- To print the sum of 1 to n natural numbers?\n",
    "- To print the even numbers between 1 to n natural numbers?\n",
    "- To print the odd numbers between 1 to n natural numbers?\n",
    "- To print the sum of even natural numbers?\n",
    "- To print the sum of odd natural numbers?\n"
   ]
  },
  {
   "cell_type": "markdown",
   "metadata": {},
   "source": [
    "## Logic 1 : (Find out +ve or -ve number)\n",
    "    - read a number from user ...,\n",
    "    - print whether the number is +ve or -ve number ..."
   ]
  },
  {
   "cell_type": "code",
   "execution_count": 1,
   "metadata": {},
   "outputs": [
    {
     "name": "stdout",
     "output_type": "stream",
     "text": [
      "enter a  number:-1\n",
      "-ve number\n"
     ]
    }
   ],
   "source": [
    "n=int(input(\"enter a  number:\"))\n",
    "if(n>0):\n",
    "    print(\"+ve number\")\n",
    "else:\n",
    "    print(\"-ve number\")    "
   ]
  },
  {
   "cell_type": "code",
   "execution_count": 2,
   "metadata": {},
   "outputs": [
    {
     "name": "stdout",
     "output_type": "stream",
     "text": [
      "enter a  number:123\n",
      "+ve number\n"
     ]
    }
   ],
   "source": [
    "n=int(input(\"enter a  number:\"))\n",
    "if(n>0):\n",
    "    print(\"+ve number\")\n",
    "else:\n",
    "    print(\"-ve number\")  "
   ]
  },
  {
   "cell_type": "code",
   "execution_count": 11,
   "metadata": {},
   "outputs": [],
   "source": [
    "## Using Functions\n",
    "def isPositiveNum(n):\n",
    "    if n>-0:\n",
    "        return True\n",
    "    else:\n",
    "        return False"
   ]
  },
  {
   "cell_type": "code",
   "execution_count": 9,
   "metadata": {},
   "outputs": [
    {
     "name": "stdout",
     "output_type": "stream",
     "text": [
      "56\n",
      "True\n"
     ]
    }
   ],
   "source": [
    "a=int(input())\n",
    "rs=isPositiveNum(a)\n",
    "print(rs)"
   ]
  },
  {
   "cell_type": "code",
   "execution_count": 10,
   "metadata": {},
   "outputs": [
    {
     "name": "stdout",
     "output_type": "stream",
     "text": [
      "-123\n",
      "False\n"
     ]
    }
   ],
   "source": [
    "a=int(input())\n",
    "rs=isPositiveNum(a)\n",
    "print(rs)"
   ]
  },
  {
   "cell_type": "markdown",
   "metadata": {},
   "source": [
    "## Logic 2 : (Find out even or odd number)\n",
    "    - read a number from user ...,\n",
    "    - print whether the number is odd or even number ..."
   ]
  },
  {
   "cell_type": "code",
   "execution_count": 3,
   "metadata": {},
   "outputs": [
    {
     "name": "stdout",
     "output_type": "stream",
     "text": [
      "enter a  number:2\n",
      "even number\n"
     ]
    }
   ],
   "source": [
    "n=int(input(\"enter a  number:\"))\n",
    "if(n%2==0):\n",
    "    print(\"even number\")\n",
    "else:\n",
    "    print(\"odd number\") "
   ]
  },
  {
   "cell_type": "code",
   "execution_count": 4,
   "metadata": {},
   "outputs": [
    {
     "name": "stdout",
     "output_type": "stream",
     "text": [
      "enter a  number:3\n",
      "odd number\n"
     ]
    }
   ],
   "source": [
    "n=int(input(\"enter a  number:\"))\n",
    "if(n%2==0):\n",
    "    print(\"even number\")\n",
    "else:\n",
    "    print(\"odd number\") "
   ]
  },
  {
   "cell_type": "code",
   "execution_count": 15,
   "metadata": {},
   "outputs": [],
   "source": [
    "## Using Functions\n",
    "def isEven(n1):\n",
    "    if(n1%2==0):\n",
    "        return True\n",
    "    else:\n",
    "        return False"
   ]
  },
  {
   "cell_type": "code",
   "execution_count": 13,
   "metadata": {},
   "outputs": [
    {
     "name": "stdout",
     "output_type": "stream",
     "text": [
      "23\n",
      "False\n"
     ]
    }
   ],
   "source": [
    "b=int(input())\n",
    "rs1=isEven(b)\n",
    "print(rs1)"
   ]
  },
  {
   "cell_type": "code",
   "execution_count": 14,
   "metadata": {},
   "outputs": [
    {
     "name": "stdout",
     "output_type": "stream",
     "text": [
      "24\n",
      "True\n"
     ]
    }
   ],
   "source": [
    "b=int(input())\n",
    "rs1=isEven(b)\n",
    "print(rs1)"
   ]
  },
  {
   "cell_type": "markdown",
   "metadata": {},
   "source": [
    "## Logic 3 : (To print the sum of even natural numbers)\n",
    "    - read a number from user ...,\n",
    "    - print the sum of even natural numbers ..."
   ]
  },
  {
   "cell_type": "code",
   "execution_count": 17,
   "metadata": {},
   "outputs": [
    {
     "name": "stdout",
     "output_type": "stream",
     "text": [
      "enter a range:10\n",
      "sum of even numbers = 30\n"
     ]
    }
   ],
   "source": [
    "def isEven(n1):\n",
    "    if(n1%2==0):\n",
    "        return True\n",
    "    else:\n",
    "        return False\n",
    "num = int(input(\"enter a range:\"))\n",
    "sm = 0\n",
    "for i in range (2,num+1) :\n",
    "    if ( isEven(i) ) :\n",
    "        sm += i\n",
    "print('sum of even numbers =',sm)"
   ]
  },
  {
   "cell_type": "markdown",
   "metadata": {},
   "source": [
    "## Logic 4 : (To print the sum of odd natural numbers)\n",
    "    - read a number from user ...,\n",
    "    - print the sum of odd natural numbers ..."
   ]
  },
  {
   "cell_type": "code",
   "execution_count": 23,
   "metadata": {},
   "outputs": [
    {
     "name": "stdout",
     "output_type": "stream",
     "text": [
      "enter a range:5\n",
      "sum of odd numbers = 9\n"
     ]
    }
   ],
   "source": [
    "def isEven(n1):\n",
    "    if(n1%2==0):\n",
    "        return True\n",
    "    else:\n",
    "        return False\n",
    "num = int(input(\"enter a range:\"))\n",
    "sm = 0\n",
    "for i in range (1,num+1) :\n",
    "    if ( isEven(i) ) :\n",
    "        #pass\n",
    "        continue\n",
    "    else:\n",
    "        sm += i\n",
    "print('sum of odd numbers =',sm)"
   ]
  },
  {
   "cell_type": "markdown",
   "metadata": {},
   "source": [
    "## Logic 5 : (To print the product of even natural numbers)\n",
    "    - read a number from user ...,\n",
    "    - print the sum of even natural numbers ..."
   ]
  },
  {
   "cell_type": "code",
   "execution_count": 24,
   "metadata": {},
   "outputs": [
    {
     "name": "stdout",
     "output_type": "stream",
     "text": [
      "enter a range:10\n",
      "product of even numbers = 945\n"
     ]
    }
   ],
   "source": [
    "num = int(input(\"enter a range:\"))\n",
    "sm = 1\n",
    "for i in range (1,num+1) :\n",
    "    if ( isEven(i) ) :\n",
    "        continue\n",
    "    else:\n",
    "        sm *= i\n",
    "print('product of even numbers =',sm)"
   ]
  },
  {
   "cell_type": "markdown",
   "metadata": {},
   "source": [
    "## Logic 6 : (To print the sum of n natural numbers)\n",
    "    - read a number (n) from user ...,\n",
    "    - print the sum of n natural numbers ..."
   ]
  },
  {
   "cell_type": "code",
   "execution_count": 29,
   "metadata": {},
   "outputs": [
    {
     "name": "stdout",
     "output_type": "stream",
     "text": [
      "10\n",
      "55\n"
     ]
    }
   ],
   "source": [
    "def sumofnNaturalNums(n) :\n",
    "    sm = 0\n",
    "    for i in range(1,n+1):\n",
    "        sm += i\n",
    "    return (sm)\n",
    "\n",
    "num = int(input())\n",
    "rs = sumofnNaturalNums(num)\n",
    "print(rs)"
   ]
  },
  {
   "cell_type": "markdown",
   "metadata": {},
   "source": [
    "## Logic 7 : (To print the product of n natural numbers)\n",
    "    - read a number (n) from user ...,\n",
    "    - print the product of n natural numbers ..."
   ]
  },
  {
   "cell_type": "code",
   "execution_count": 31,
   "metadata": {},
   "outputs": [
    {
     "name": "stdout",
     "output_type": "stream",
     "text": [
      "10\n",
      "3628800\n"
     ]
    }
   ],
   "source": [
    "def sumofProductofnNaturalNums(n) :\n",
    "    sm = 1\n",
    "    for i in range(1,n+1):\n",
    "        sm *= i\n",
    "    return (sm)\n",
    "\n",
    "num = int(input())\n",
    "rs = sumofProductofnNaturalNums(num)\n",
    "print(rs)"
   ]
  },
  {
   "cell_type": "markdown",
   "metadata": {},
   "source": [
    "## Logic 8 : (To check wheather given character is vowel or consonant)\n",
    "    - read a character from user ...,\n",
    "    - print wheather given character is vowel or consonant ..."
   ]
  },
  {
   "cell_type": "code",
   "execution_count": 39,
   "metadata": {},
   "outputs": [
    {
     "name": "stdout",
     "output_type": "stream",
     "text": [
      "enter a character = f\n",
      "character is consonent\n"
     ]
    }
   ],
   "source": [
    "n=input(\"enter a character = \")\n",
    "if (n=='a' or n=='e' or n=='i' or n=='o' or n=='u' or n=='A' or n=='E' or n=='I' or n=='O' or n=='U'):\n",
    "    print (\"character is vowel\")\n",
    "else:\n",
    "    print (\"character is consonent\")"
   ]
  },
  {
   "cell_type": "code",
   "execution_count": 40,
   "metadata": {},
   "outputs": [
    {
     "name": "stdout",
     "output_type": "stream",
     "text": [
      "l\n",
      "character is consonent\n"
     ]
    }
   ],
   "source": [
    "li = ['a','e','i','o','u','A','E','I','O','U']\n",
    "ch = input()\n",
    "if ch in li :\n",
    "    print (\"character is vowel\")\n",
    "else:\n",
    "    print (\"character is consonent\")    "
   ]
  },
  {
   "cell_type": "code",
   "execution_count": 45,
   "metadata": {},
   "outputs": [
    {
     "name": "stdout",
     "output_type": "stream",
     "text": [
      "E\n"
     ]
    },
    {
     "data": {
      "text/plain": [
       "True"
      ]
     },
     "execution_count": 45,
     "metadata": {},
     "output_type": "execute_result"
    }
   ],
   "source": [
    "li = ['a','e','i','o','u','A','E','I','O','U']\n",
    "def isVowel(ch):\n",
    "    if ch in li :\n",
    "        return True\n",
    "    else:\n",
    "        return False \n",
    "ch= input()\n",
    "isVowel(ch)"
   ]
  },
  {
   "cell_type": "markdown",
   "metadata": {},
   "source": [
    "## Logic 9 : (To check wheather given year is leap year or not)\n",
    "    - read year from user ...,\n",
    "    - print wheather given year is leap year or not ..."
   ]
  },
  {
   "cell_type": "code",
   "execution_count": 1,
   "metadata": {},
   "outputs": [
    {
     "name": "stdout",
     "output_type": "stream",
     "text": [
      "2020\n",
      "True\n"
     ]
    }
   ],
   "source": [
    "def isLeapYear(n1):\n",
    "    if(n1%4==0):\n",
    "        return True\n",
    "    else:\n",
    "        return False\n",
    "    \n",
    "b=int(input())\n",
    "rs1=isLeapYear(b)\n",
    "print(rs1)"
   ]
  },
  {
   "cell_type": "markdown",
   "metadata": {},
   "source": [
    "## Logic 10 : (To check wheather given two values are equal or not)\n",
    "    - read 2 values from user ...,\n",
    "    - print wheather given two values are equal or not ..."
   ]
  },
  {
   "cell_type": "code",
   "execution_count": 3,
   "metadata": {},
   "outputs": [
    {
     "name": "stdout",
     "output_type": "stream",
     "text": [
      "10\n",
      "10\n",
      "True\n"
     ]
    }
   ],
   "source": [
    "def areEqual(a, b): \n",
    "    if (a == b):  \n",
    "        return True\n",
    "    else: \n",
    "        return False \n",
    "    \n",
    "a1 = int(input())  \n",
    "b1 = int(input())  \n",
    "rs1 = areEqual(a1,b1) \n",
    "print(rs1)"
   ]
  },
  {
   "cell_type": "markdown",
   "metadata": {},
   "source": [
    "## Logic 11 : (To find biggest of two numbers)\n",
    "    - read 2 values from user ...,\n",
    "    - print biggest of two numbers ..."
   ]
  },
  {
   "cell_type": "code",
   "execution_count": 6,
   "metadata": {},
   "outputs": [
    {
     "name": "stdout",
     "output_type": "stream",
     "text": [
      "120\n",
      "130\n",
      "130 is biggest among 2 numbers\n"
     ]
    }
   ],
   "source": [
    "def isBiggest(a, b): \n",
    "    if(a >= b):\n",
    "        print(a, \"is biggest among 2 numbers\")\n",
    "    else:\n",
    "        print(b, \"is biggest among 2 numbers\")\n",
    "    \n",
    "a1 = int(input())  \n",
    "b1 = int(input())  \n",
    "rs1 = isBiggest(a1,b1) "
   ]
  },
  {
   "cell_type": "markdown",
   "metadata": {},
   "source": [
    "## Logic 12 : (To find the biggest of three numbers)\n",
    "    - read 3 values from user ...,\n",
    "    - print biggest of three numbers ..."
   ]
  },
  {
   "cell_type": "code",
   "execution_count": 7,
   "metadata": {},
   "outputs": [
    {
     "name": "stdout",
     "output_type": "stream",
     "text": [
      "10\n",
      "25\n",
      "5\n",
      "25 is biggest among 3 numbers\n"
     ]
    }
   ],
   "source": [
    "def areBiggest(a, b,c): \n",
    "    if (a > b) and (a > c):\n",
    "        print(a, \"is biggest among 3 numbers\")\n",
    "    elif (b > a) and (b > c):\n",
    "        print(b, \"is biggest among 3 numbers\")\n",
    "    else:\n",
    "        print(c, \"is biggest among 3 numbers\")\n",
    "    \n",
    "a1 = int(input())  \n",
    "b1 = int(input())\n",
    "c1 = int(input())\n",
    "rs1 = areBiggest(a1,b1,c1) "
   ]
  },
  {
   "cell_type": "markdown",
   "metadata": {},
   "source": [
    "\n",
    "## Logic 13 : (To calculate the student grading system)\n",
    "    - read student marks from user ...,\n",
    "    - print result of the student ..."
   ]
  },
  {
   "cell_type": "code",
   "execution_count": null,
   "metadata": {},
   "outputs": [
    {
     "name": "stdout",
     "output_type": "stream",
     "text": [
      "Enter marks obtained in WD,MP,SE,CH&CN,Java \n",
      "5\n"
     ]
    }
   ],
   "source": [
    "def isGrade(a1,b1,c1,d1,e1) :\n",
    "    sm = a1 + b1 + c1 + d1 + e1\n",
    "    avg = sm/5\n",
    "    if(avg>=91 and avg<=100):\n",
    "    \tprint(\"A+\")\n",
    "    elif(avg>=81 and avg<=90):\n",
    "    \tprint(\"A\")\n",
    "    elif(avg>=71 and avg<=80):\n",
    "    \tprint(\"B+\")\n",
    "    elif(avg>=61 and avg<=70):\n",
    "    \tprint(\"B\")\n",
    "    elif(avg>=51 and avg<=60):\n",
    "    \tprint(\"C+\")\n",
    "    elif(avg>=41 and avg<=50):\n",
    "    \tprint(\"C\")\n",
    "    elif(avg>=0 and avg<=40):\n",
    "    \tprint(\"Fail\")\n",
    "    else:\n",
    "    \tprint(\"Out of Range\")\n",
    "\n",
    "\n",
    "print(\"Enter marks obtained in WD,MP,SE,CH&CN,Java \")\n",
    "a = input()\n",
    "b = input()\n",
    "c = input()\n",
    "d = input()\n",
    "e = input()\n",
    "rs1 = isGrade(a,b,c,d,e)"
   ]
  },
  {
   "cell_type": "markdown",
   "metadata": {},
   "source": [
    "##### "
   ]
  }
 ],
 "metadata": {
  "kernelspec": {
   "display_name": "Python 3",
   "language": "python",
   "name": "python3"
  },
  "language_info": {
   "codemirror_mode": {
    "name": "ipython",
    "version": 3
   },
   "file_extension": ".py",
   "mimetype": "text/x-python",
   "name": "python",
   "nbconvert_exporter": "python",
   "pygments_lexer": "ipython3",
   "version": "3.7.4"
  }
 },
 "nbformat": 4,
 "nbformat_minor": 4
}
