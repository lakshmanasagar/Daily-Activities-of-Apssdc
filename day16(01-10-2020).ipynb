{
 "cells": [
  {
   "cell_type": "markdown",
   "metadata": {},
   "source": [
    "### File handling\n",
    "- what is a file\n",
    "- what is file handling\n",
    "- file methods\n",
    "- diff modes\n",
    "- use of \"with\" stmt\n",
    "- File:\n",
    "     - File is saved in some location on local system to store some informations\n",
    "     - ex:\n",
    "     - .txt,.jpg,.ipyb,.pdf,.png\n",
    "- Filehandling:\n",
    "      - create,reading,update,delete\n",
    "      - create file\n",
    "      - open\n",
    "      - working\n",
    "      - close\n",
    " - File methods\n",
    "     - open()\n",
    "       - syntax:file_obj = open(\"filename\",\"mode\")\n",
    "     - read()\n",
    "        - syntax : file_obj.read(size)\n",
    " - write()\n",
    "        - syntax: file_obj.write(data)\n",
    "     - close()\n",
    "         - syntax: file_obj.close()\n",
    "     - readlines()\n",
    "         - syntax: file_obj.readlines()\n",
    " - Different Modes:\n",
    "    - open(\"filename\",\"mode\")\n",
    "    - open(\"filename\",\"r\")\n",
    "    - open(\"filename\",\"w\")#overridedata\n",
    "    - open(\"filename\",\"a\")#append\n",
    "    - open(\"filename\",\"r+\")#read&writes\n",
    "    - open(\"filename\",\"w+\")#if no file it reads,writes data"
   ]
  },
  {
   "cell_type": "code",
   "execution_count": 1,
   "metadata": {},
   "outputs": [
    {
     "name": "stdout",
     "output_type": "stream",
     "text": [
      "Done\n"
     ]
    }
   ],
   "source": [
    "# crete a file\n",
    "f = open(\"file.txt\",\"w\") #by using write mode we can create file\n",
    "data = \"welcome to python filemethod concept\"\n",
    "f.write(data)\n",
    "print(\"Done\")\n",
    "f.close()\n"
   ]
  },
  {
   "cell_type": "code",
   "execution_count": 2,
   "metadata": {},
   "outputs": [
    {
     "ename": "FileNotFoundError",
     "evalue": "[Errno 2] No such file or directory: 'file1.txt'",
     "output_type": "error",
     "traceback": [
      "\u001b[1;31m---------------------------------------------------------------------------\u001b[0m",
      "\u001b[1;31mFileNotFoundError\u001b[0m                         Traceback (most recent call last)",
      "\u001b[1;32m<ipython-input-2-c069b736b52d>\u001b[0m in \u001b[0;36m<module>\u001b[1;34m\u001b[0m\n\u001b[0;32m      1\u001b[0m \u001b[1;31m# crete a file\u001b[0m\u001b[1;33m\u001b[0m\u001b[1;33m\u001b[0m\u001b[1;33m\u001b[0m\u001b[0m\n\u001b[1;32m----> 2\u001b[1;33m \u001b[0mf\u001b[0m \u001b[1;33m=\u001b[0m \u001b[0mopen\u001b[0m\u001b[1;33m(\u001b[0m\u001b[1;34m\"file1.txt\"\u001b[0m\u001b[1;33m,\u001b[0m\u001b[1;34m\"r\"\u001b[0m\u001b[1;33m)\u001b[0m\u001b[1;31m#by using read we cant create file\u001b[0m\u001b[1;33m\u001b[0m\u001b[1;33m\u001b[0m\u001b[0m\n\u001b[0m\u001b[0;32m      3\u001b[0m \u001b[0mdata\u001b[0m \u001b[1;33m=\u001b[0m \u001b[1;34m\"welcome to python filemethod concept\"\u001b[0m\u001b[1;33m\u001b[0m\u001b[1;33m\u001b[0m\u001b[0m\n\u001b[0;32m      4\u001b[0m \u001b[0mf\u001b[0m\u001b[1;33m.\u001b[0m\u001b[0mwrite\u001b[0m\u001b[1;33m(\u001b[0m\u001b[0mdata\u001b[0m\u001b[1;33m)\u001b[0m\u001b[1;33m\u001b[0m\u001b[1;33m\u001b[0m\u001b[0m\n\u001b[0;32m      5\u001b[0m \u001b[0mprint\u001b[0m\u001b[1;33m(\u001b[0m\u001b[1;34m\"Done\"\u001b[0m\u001b[1;33m)\u001b[0m\u001b[1;33m\u001b[0m\u001b[1;33m\u001b[0m\u001b[0m\n",
      "\u001b[1;31mFileNotFoundError\u001b[0m: [Errno 2] No such file or directory: 'file1.txt'"
     ]
    }
   ],
   "source": [
    "# crete a file\n",
    "f = open(\"file1.txt\",\"r\")#by using read we cant create file\n",
    "data = \"welcome to python filemethod concept\"\n",
    "f.write(data)\n",
    "print(\"Done\")\n",
    "f.close()\n"
   ]
  },
  {
   "cell_type": "code",
   "execution_count": 3,
   "metadata": {},
   "outputs": [
    {
     "name": "stdout",
     "output_type": "stream",
     "text": [
      "welcome to python filemethod concept\n"
     ]
    }
   ],
   "source": [
    "# reading the data\n",
    "file = open(\"file.txt\",\"r\")\n",
    "data1 = file.read()\n",
    "print(data1)\n",
    "file.close()\n"
   ]
  },
  {
   "cell_type": "code",
   "execution_count": 4,
   "metadata": {},
   "outputs": [
    {
     "name": "stdout",
     "output_type": "stream",
     "text": [
      "Done1\n"
     ]
    }
   ],
   "source": [
    "# append\n",
    "f = open(\"file.txt\",\"a\")\n",
    "d = \"\\n\"+\"apssdc python\"\n",
    "f.write(d)\n",
    "print(\"Done1\")\n",
    "f.close()\n"
   ]
  },
  {
   "cell_type": "code",
   "execution_count": 5,
   "metadata": {},
   "outputs": [
    {
     "name": "stdout",
     "output_type": "stream",
     "text": [
      "welcome to python filemethod concept\n",
      "apssdc python\n"
     ]
    }
   ],
   "source": [
    "# reading the data\n",
    "file = open(\"file.txt\",\"r\")\n",
    "data1 = file.read()\n",
    "print(data1)\n",
    "file.close()\n"
   ]
  },
  {
   "cell_type": "code",
   "execution_count": 6,
   "metadata": {},
   "outputs": [
    {
     "name": "stdout",
     "output_type": "stream",
     "text": [
      "welcome to python filemethod concept\n",
      "apssdc python\n"
     ]
    }
   ],
   "source": [
    "with open(\"file.txt\",\"r\") as file:\n",
    "    data = file.read()\n",
    "    print(data)\n"
   ]
  },
  {
   "cell_type": "code",
   "execution_count": 7,
   "metadata": {},
   "outputs": [
    {
     "name": "stdout",
     "output_type": "stream",
     "text": [
      "enter some dataapssdc conducting online workshop\n",
      "completed....................\n"
     ]
    }
   ],
   "source": [
    "file = open(\"file2.txt\",\"w\")\n",
    "file.write(input(\"enter some data\"))\n",
    "print(\"completed\"+(\".\"*20))\n",
    "file.close()\n"
   ]
  },
  {
   "cell_type": "code",
   "execution_count": 8,
   "metadata": {},
   "outputs": [],
   "source": [
    "# if my file located in some other place\n",
    "#(D:\\) # \\ replace with \\\\\n",
    "    # \\ replace with /\n",
    "    # r --> rawpath or rawlocation,r\"D:\\\"\"\n"
   ]
  },
  {
   "cell_type": "markdown",
   "metadata": {},
   "source": [
    "'''open(\"pastepath\",\"r\")#file location\\filename.txt\n",
    "f.read()\n",
    "print(d)\n",
    "f.close()'''\n"
   ]
  },
  {
   "cell_type": "markdown",
   "metadata": {},
   "source": [
    "- File obj methods\n",
    "  - seek()\n",
    "       - it is used to move cursor position\n",
    "  - tell(\n",
    "       - used to know the cursor position\n"
   ]
  },
  {
   "cell_type": "code",
   "execution_count": 10,
   "metadata": {},
   "outputs": [
    {
     "name": "stdout",
     "output_type": "stream",
     "text": [
      "11\n",
      "welcome to \n",
      "20\n"
     ]
    }
   ],
   "source": [
    "f = open(\"file.txt\",\"r\")\n",
    "data = f.read(11)\n",
    "print(f.tell())\n",
    "print(data)\n",
    "f.seek(20)\n",
    "print(f.tell())\n",
    "f.close()\n"
   ]
  },
  {
   "cell_type": "code",
   "execution_count": 11,
   "metadata": {},
   "outputs": [
    {
     "name": "stdout",
     "output_type": "stream",
     "text": [
      "welcome to python filemethod concept\n",
      "apssdc python\n"
     ]
    }
   ],
   "source": [
    "#Task:Read the data in reverse order\n",
    "with open(\"file.txt\",\"r\") as file:\n",
    "    data = file.read()\n",
    "    print(data)\n"
   ]
  },
  {
   "cell_type": "code",
   "execution_count": 12,
   "metadata": {},
   "outputs": [
    {
     "data": {
      "text/plain": [
       "'gnirts'"
      ]
     },
     "execution_count": 12,
     "metadata": {},
     "output_type": "execute_result"
    }
   ],
   "source": [
    "a = \"string\"\n",
    "a[::-1]\n"
   ]
  },
  {
   "cell_type": "code",
   "execution_count": 13,
   "metadata": {},
   "outputs": [
    {
     "name": "stdout",
     "output_type": "stream",
     "text": [
      "nohtyp cdsspa\n",
      "tpecnoc dohtemelif nohtyp ot emoclew\n"
     ]
    }
   ],
   "source": [
    "# in reverse way\n",
    "with open(\"file.txt\",\"r\") as file:\n",
    "    data = file.read()\n",
    "    print(data[::-1])"
   ]
  },
  {
   "cell_type": "code",
   "execution_count": 14,
   "metadata": {},
   "outputs": [
    {
     "name": "stdout",
     "output_type": "stream",
     "text": [
      "['welcome to python filemethod concept\\n', 'apssdc python']\n"
     ]
    }
   ],
   "source": [
    "with open(\"file.txt\",\"r\") as file:\n",
    "    data = file.readlines()\n",
    "    print(data)\n"
   ]
  },
  {
   "cell_type": "code",
   "execution_count": 15,
   "metadata": {},
   "outputs": [
    {
     "name": "stdout",
     "output_type": "stream",
     "text": [
      "['welcome to python filemethod concept\\n', 'apssdc python']\n",
      "welcome to python filemethod concept\n",
      "\n",
      "apssdc python\n"
     ]
    }
   ],
   "source": [
    "with open(\"file.txt\",\"r\") as file:\n",
    "    data = file.readlines()\n",
    "    print(data)\n",
    "    for i in data:\n",
    "        print(i)\n"
   ]
  },
  {
   "cell_type": "code",
   "execution_count": 16,
   "metadata": {},
   "outputs": [
    {
     "name": "stdout",
     "output_type": "stream",
     "text": [
      "['welcome', 'to', 'python', 'filemethod', 'concept\\n']\n",
      "5\n",
      "['apssdc', 'python']\n",
      "2\n"
     ]
    }
   ],
   "source": [
    "# split the data and find how many words present in each line\n",
    "with open(\"file.txt\",\"r\") as file: #read data\n",
    "    data = file.readlines()        #readline by line\n",
    "    for lines in data:\n",
    "        words = lines.split(\" \")   #split based on space\n",
    "        print(words)\n",
    "        print(len(words))\n",
    "    \n"
   ]
  },
  {
   "cell_type": "code",
   "execution_count": 17,
   "metadata": {},
   "outputs": [
    {
     "name": "stdout",
     "output_type": "stream",
     "text": [
      "w e l c o m e   t o   p y t h o n   f i l e m e t h o d   c o n c e p t \n",
      " a p s s d c   p y t h o n "
     ]
    }
   ],
   "source": [
    "with open(\"file.txt\",\"r\") as file:\n",
    "    data = file.read()\n",
    "    for ele in data:\n",
    "        print(ele,end=\" \")\n"
   ]
  },
  {
   "cell_type": "code",
   "execution_count": 18,
   "metadata": {},
   "outputs": [
    {
     "name": "stdout",
     "output_type": "stream",
     "text": [
      "['welcome', 'to', 'python', 'filemethod', 'concept\\n']\n",
      "5\n",
      "['apssdc', 'python']\n",
      "2\n",
      "welcome ----> 7\n",
      "to ----> 2\n",
      "python ----> 6\n",
      "filemethod ----> 10\n",
      "concept\n",
      " ----> 8\n",
      "apssdc ----> 6\n",
      "python ----> 6\n"
     ]
    }
   ],
   "source": [
    "# find the length of each word & also print that word# split the data and find how many words present in each line\n",
    "with open(\"file.txt\",\"r\") as file: #read data\n",
    "    data = file.readlines()        #readline by line\n",
    "    for lines in data:\n",
    "        words = lines.split(\" \")   #split based on space\n",
    "        print(words)\n",
    "        print(len(words))\n",
    "    \n",
    "with open(\"file.txt\",\"r\") as file:\n",
    "    data = file.readlines()\n",
    "    #print(data)\n",
    "    for lines in data:\n",
    "        words = lines.split(\" \")\n",
    "        for ele in words:\n",
    "            print(ele,\"---->\",len(ele))\n"
   ]
  },
  {
   "cell_type": "code",
   "execution_count": 19,
   "metadata": {},
   "outputs": [],
   "source": [
    "# find out the frequency of each word\n",
    "# \"hii hello hii hello everyone\"\n",
    "#d = {\"hi\":2,\"hello\":2,\"everyone\":1}\n"
   ]
  },
  {
   "cell_type": "code",
   "execution_count": null,
   "metadata": {},
   "outputs": [],
   "source": []
  }
 ],
 "metadata": {
  "kernelspec": {
   "display_name": "Python 3",
   "language": "python",
   "name": "python3"
  },
  "language_info": {
   "codemirror_mode": {
    "name": "ipython",
    "version": 3
   },
   "file_extension": ".py",
   "mimetype": "text/x-python",
   "name": "python",
   "nbconvert_exporter": "python",
   "pygments_lexer": "ipython3",
   "version": "3.7.4"
  }
 },
 "nbformat": 4,
 "nbformat_minor": 4
}
