{
 "cells": [
  {
   "cell_type": "code",
   "execution_count": 3,
   "metadata": {},
   "outputs": [
    {
     "name": "stdout",
     "output_type": "stream",
     "text": [
      "enter a string python programming\n",
      "count =  18\n"
     ]
    }
   ],
   "source": [
    "# find number of characters in a given string without using len()\n",
    "# you have to read string from the user i.e, python programming\n",
    "# count = 18\n",
    "\n",
    "s=input(\"enter a string \")\n",
    "count = 0\n",
    "for i in s:\n",
    "      count = count+1\n",
    "print(\"count = \", count)"
   ]
  },
  {
   "cell_type": "code",
   "execution_count": null,
   "metadata": {},
   "outputs": [],
   "source": [
    "l = \"python programming\"\n",
    "\n",
    "#len()\n",
    "\n",
    "#count=18\n",
    " \n",
    "p -> 2\n",
    "y -> 1 \n",
    "t -> 1\n",
    "h -> 1\n",
    "o -> 2\n",
    "n -> 2\n",
    "  -> 1\n",
    "r -> 2\n",
    "g -> 2\n",
    "a -> 2\n",
    "m -> 2\n",
    "i -> 1"
   ]
  },
  {
   "cell_type": "code",
   "execution_count": 4,
   "metadata": {},
   "outputs": [
    {
     "name": "stdout",
     "output_type": "stream",
     "text": [
      "p\n",
      "y\n",
      "t\n",
      "h\n",
      "o\n",
      "n\n",
      " \n",
      "p\n",
      "r\n",
      "o\n",
      "g\n",
      "r\n",
      "a\n",
      "m\n",
      "m\n",
      "i\n",
      "n\n",
      "g\n"
     ]
    }
   ],
   "source": [
    "p = \"python programming\"\n",
    "for h in p:\n",
    "    print(h)"
   ]
  },
  {
   "cell_type": "code",
   "execution_count": 5,
   "metadata": {},
   "outputs": [
    {
     "name": "stdout",
     "output_type": "stream",
     "text": [
      "Count : 18\n"
     ]
    }
   ],
   "source": [
    "p = \"python programming\"\n",
    "co = 0\n",
    "for h in p:\n",
    "    co+=1\n",
    "print(\"Count : {}\".format(co))"
   ]
  },
  {
   "cell_type": "code",
   "execution_count": 6,
   "metadata": {},
   "outputs": [
    {
     "name": "stdout",
     "output_type": "stream",
     "text": [
      "python\n",
      "Count : 6\n"
     ]
    }
   ],
   "source": [
    "p = input()\n",
    "co = 0\n",
    "for h in p:\n",
    "    co+=1\n",
    "print(\"Count : {}\".format(co))"
   ]
  },
  {
   "cell_type": "code",
   "execution_count": null,
   "metadata": {},
   "outputs": [],
   "source": [
    "if = 0\n",
    "def = \"ramu\"\n",
    "int = 89\n",
    "str = \"sdfagg\""
   ]
  },
  {
   "cell_type": "code",
   "execution_count": 7,
   "metadata": {},
   "outputs": [
    {
     "name": "stdout",
     "output_type": "stream",
     "text": [
      "python\n",
      "<class 'str'>\n"
     ]
    }
   ],
   "source": [
    "p = input()\n",
    "co = 0\n",
    "for h in p:\n",
    "    co+=1\n",
    "# print(\"Count : {}\".format(co))\n",
    "print(type(str(co)))"
   ]
  },
  {
   "cell_type": "code",
   "execution_count": null,
   "metadata": {},
   "outputs": [],
   "source": [
    "k = \"aaaaaaabccd\"\n",
    "\n",
    "a -> 7\n",
    "b -> 1\n",
    "c -> 2\n",
    "d -> 1 \n",
    "\n",
    "m = \"This is Python Intership Program\"\n",
    "by using functions\n",
    "\n",
    "words -> 5\n",
    "characters -> ?\n",
    "vowels -> 4\n",
    "a -> 1\n",
    "e -> 1\n",
    "i -> 3\n",
    "o -> 2"
   ]
  },
  {
   "cell_type": "code",
   "execution_count": 9,
   "metadata": {},
   "outputs": [
    {
     "name": "stdout",
     "output_type": "stream",
     "text": [
      "daaaaaaabcc\n",
      "a => 7\n",
      "c => 2\n",
      "b => 1\n",
      "d => 1\n"
     ]
    }
   ],
   "source": [
    "mn=input()\n",
    "#print(set(mn))\n",
    "for ak in set(mn):\n",
    "    if ak in mn:\n",
    "        print(ak,\"=>\",mn.count(ak))"
   ]
  },
  {
   "cell_type": "code",
   "execution_count": 10,
   "metadata": {},
   "outputs": [
    {
     "name": "stdout",
     "output_type": "stream",
     "text": [
      "a\n",
      "c\n",
      "b\n",
      "d\n"
     ]
    }
   ],
   "source": [
    "mn=\"daaaaaabcc\"\n",
    "for j in set(mn):\n",
    "    print(j)"
   ]
  },
  {
   "cell_type": "code",
   "execution_count": 11,
   "metadata": {},
   "outputs": [
    {
     "name": "stdout",
     "output_type": "stream",
     "text": [
      "d\n",
      "a\n",
      "a\n",
      "a\n",
      "a\n",
      "a\n",
      "a\n",
      "b\n",
      "c\n",
      "c\n"
     ]
    }
   ],
   "source": [
    "mn=\"daaaaaabcc\"\n",
    "for j in list(mn):\n",
    "    print(j)"
   ]
  },
  {
   "cell_type": "code",
   "execution_count": 12,
   "metadata": {},
   "outputs": [
    {
     "name": "stdout",
     "output_type": "stream",
     "text": [
      "daaaaaabcc"
     ]
    }
   ],
   "source": [
    "mn=\"daaaaaabcc\"\n",
    "for j in list(mn):\n",
    "    print(j,end=\"\")"
   ]
  },
  {
   "cell_type": "code",
   "execution_count": null,
   "metadata": {},
   "outputs": [],
   "source": [
    "mk=\"daaaaaabcc\"\n",
    "for k in dict(mk):\n",
    "    print(k)"
   ]
  },
  {
   "cell_type": "code",
   "execution_count": 13,
   "metadata": {},
   "outputs": [
    {
     "name": "stdout",
     "output_type": "stream",
     "text": [
      "<class 'dict'>\n"
     ]
    }
   ],
   "source": [
    "k={}\n",
    "print(type(k))"
   ]
  },
  {
   "cell_type": "code",
   "execution_count": 14,
   "metadata": {},
   "outputs": [
    {
     "name": "stdout",
     "output_type": "stream",
     "text": [
      "<class 'dict'>\n"
     ]
    }
   ],
   "source": [
    "k={'a':23,'e':12}\n",
    "print(type(k))"
   ]
  },
  {
   "cell_type": "code",
   "execution_count": 15,
   "metadata": {},
   "outputs": [
    {
     "name": "stdout",
     "output_type": "stream",
     "text": [
      "<class 'set'>\n"
     ]
    }
   ],
   "source": [
    "y=set()\n",
    "print(type(y))"
   ]
  },
  {
   "cell_type": "code",
   "execution_count": 16,
   "metadata": {},
   "outputs": [
    {
     "name": "stdout",
     "output_type": "stream",
     "text": [
      "d\n",
      "a\n",
      "a\n",
      "a\n",
      "a\n",
      "a\n",
      "a\n",
      "a\n",
      "b\n",
      "c\n",
      "c\n"
     ]
    }
   ],
   "source": [
    "m=\"daaaaaaabcc\"\n",
    "for k in m:\n",
    "    print(k)"
   ]
  },
  {
   "cell_type": "code",
   "execution_count": 21,
   "metadata": {},
   "outputs": [
    {
     "name": "stdout",
     "output_type": "stream",
     "text": [
      "daaaaaaanbcc\n",
      "d => 1\n",
      "a => 7\n",
      "n => 1\n",
      "b => 1\n",
      "c => 2\n"
     ]
    }
   ],
   "source": [
    "m=input()\n",
    "dq={}\n",
    "for k in m:\n",
    "    dq[k]=m.count(k)\n",
    "for i,j in dq.items():\n",
    "    print(i,\"=>\",j)"
   ]
  },
  {
   "cell_type": "code",
   "execution_count": null,
   "metadata": {},
   "outputs": [],
   "source": [
    "## 1) WAP to count the number of factors of a given number\n",
    "## 2) WAP to find second largest factor of given number\n",
    "## 3) WAP to find second smallest factor of given number\n",
    "## 4) WAP to count all the prime numbers b/w 1-100\n",
    "## 5) WAP to find sum of all prime numbers b/w 1-100\n",
    "## 6) WAP to find largest and smallest prime numbers b/w 1-100"
   ]
  },
  {
   "cell_type": "code",
   "execution_count": 26,
   "metadata": {},
   "outputs": [
    {
     "name": "stdout",
     "output_type": "stream",
     "text": [
      "enter a number : 12\n",
      "The Count of factors is 6\n"
     ]
    }
   ],
   "source": [
    "## 1) WAP to count the number of factors of a given number\n",
    "\n",
    "n= int(input(\"enter a number : \"))\n",
    "count=0\n",
    "for i in range(1,n+1):\n",
    "    if(n%i==0):\n",
    "        count+=1\n",
    "print(\"The Count of factors is\",count)"
   ]
  },
  {
   "cell_type": "code",
   "execution_count": 28,
   "metadata": {},
   "outputs": [
    {
     "name": "stdout",
     "output_type": "stream",
     "text": [
      "enter a number : 12\n",
      "The second largest factor is :  6\n"
     ]
    }
   ],
   "source": [
    "## 2) WAP to find second largest factor of given number\n",
    "n = int(input(\"enter a number : \"))\n",
    "count=0\n",
    "d=[]\n",
    "for i in range (1,n+1):\n",
    "    if(n%i==0):\n",
    "        count+=1\n",
    "        d.append(i)\n",
    "print(\"The second largest factor is : \",d[-2])"
   ]
  },
  {
   "cell_type": "code",
   "execution_count": 29,
   "metadata": {},
   "outputs": [
    {
     "name": "stdout",
     "output_type": "stream",
     "text": [
      "enter a number : 12\n",
      "The second smallest factor is :  2\n"
     ]
    }
   ],
   "source": [
    "## 3) WAP to find second smallest factor of given number\n",
    "n = int(input(\"enter a number : \"))\n",
    "count=0\n",
    "d=[]\n",
    "for i in range (1,n+1):\n",
    "    if(n%i==0):\n",
    "        count+=1\n",
    "        d.append(i)\n",
    "print(\"The second smallest factor is : \",d[1])"
   ]
  },
  {
   "cell_type": "code",
   "execution_count": 1,
   "metadata": {},
   "outputs": [
    {
     "name": "stdout",
     "output_type": "stream",
     "text": [
      "Find sum of prime numbers upto : 100\n",
      "\n",
      "Sum of all prime numbers upto 100 : 1058\n"
     ]
    }
   ],
   "source": [
    "## 5) WAP to find sum of all prime numbers b/w 1-100\n",
    "upto = int(input(\"Find sum of prime numbers upto : \"))\n",
    "\n",
    "sum = 0\n",
    "\n",
    "for n in range(2, upto + 1):\n",
    "\n",
    "    i = 2\n",
    "    \n",
    "    for i in range(2, n):\n",
    "        if (int(n % i) == 0):\n",
    "            i = n\n",
    "            break;\n",
    "\n",
    "    #If the number is prime then add it.\n",
    "    if i is not n:\n",
    "        sum += n\n",
    "\n",
    "print(\"\\nSum of all prime numbers upto\", upto, \":\", sum)"
   ]
  },
  {
   "cell_type": "code",
   "execution_count": 3,
   "metadata": {},
   "outputs": [
    {
     "name": "stdout",
     "output_type": "stream",
     "text": [
      "Largest element is: 45\n",
      "Smallest element is: 2\n",
      "Second Largest element is: 41\n",
      "Second Smallest element is: 4\n"
     ]
    }
   ],
   "source": [
    "## 6) WAP to find largest and smallest prime numbers b/w 1-100\n",
    "def find_len(list1): \n",
    "    length = len(list1) \n",
    "    list1.sort() \n",
    "    print(\"Largest element is:\", list1[length-1]) \n",
    "    print(\"Smallest element is:\", list1[0]) \n",
    "    print(\"Second Largest element is:\", list1[length-2]) \n",
    "    print(\"Second Smallest element is:\", list1[1]) \n",
    "list1=[12, 45, 2, 41, 31, 10, 8, 6, 4] #after sorted --> 2  4  6  8  12  31  41  45 \n",
    "Largest = find_len(list1) \n"
   ]
  },
  {
   "cell_type": "code",
   "execution_count": 4,
   "metadata": {},
   "outputs": [
    {
     "name": "stdout",
     "output_type": "stream",
     "text": [
      "enter a number=15\n",
      "second largest num: 5\n"
     ]
    }
   ],
   "source": [
    "## 2) WAP to find second largest factor of given number\n",
    "# read num from user\n",
    "# need to find all factors of a given num\n",
    "# ex:4,-->1,2,4\n",
    "# find second largest num\n",
    "\n",
    "def numofFactors(n):\n",
    "    for i in range(1,n+1):\n",
    "        if n % i == 0:\n",
    "            #print(i,end=\" ,\")\n",
    "            facts.append(i)\n",
    "    return facts\n",
    "\n",
    "facts = []            \n",
    "num = int(input(\"enter a number=\"))\n",
    "rs = numofFactors(num)\n",
    "#print(rs)\n",
    "print(\"second largest num:\",rs[-2])\n"
   ]
  },
  {
   "cell_type": "code",
   "execution_count": 5,
   "metadata": {},
   "outputs": [
    {
     "data": {
      "text/plain": [
       "True"
      ]
     },
     "execution_count": 5,
     "metadata": {},
     "output_type": "execute_result"
    }
   ],
   "source": [
    "## 6) WAP to find largest and smallest prime number between 1 to 100\n",
    "# need to implement prime function\n",
    "# store all primes which are comming from prim()\n",
    "# finding largest and smallest prime numbers\n",
    "\n",
    "def isPrime(n): #if num have 2 factors(1 & itself) is prime\n",
    "    for i in range(2,n):\n",
    "        if n%i==0:\n",
    "            return False\n",
    "        return True\n",
    "isPrime(7)\n",
    "# it iterates 5 times it ignores 1,7(2,3,4,5,6)    \n"
   ]
  },
  {
   "cell_type": "code",
   "execution_count": 6,
   "metadata": {},
   "outputs": [
    {
     "data": {
      "text/plain": [
       "False"
      ]
     },
     "execution_count": 6,
     "metadata": {},
     "output_type": "execute_result"
    }
   ],
   "source": [
    "def isPrime(n): #if num have 2 factors(1 & itself) is prime\n",
    "    if n==1:\n",
    "        return False\n",
    "    \n",
    "    for i in range(2,n):\n",
    "        if n%i==0:\n",
    "            return False\n",
    "        return True\n",
    "isPrime(1)\n"
   ]
  },
  {
   "cell_type": "code",
   "execution_count": 7,
   "metadata": {},
   "outputs": [
    {
     "name": "stdout",
     "output_type": "stream",
     "text": [
      "3,5,7,9,11,13,15,17,19,21,23,25,27,29,31,33,35,37,39,41,43,45,47,49,51,53,55,57,59,61,63,65,67,69,71,73,75,77,79,81,83,85,87,89,91,93,95,97,99,"
     ]
    }
   ],
   "source": [
    "def isPrime(n): #(if num have 2 factors(1 & itself) is prime)1 to 100 prime\n",
    "    if n==1:\n",
    "        return False\n",
    "    for i in range(2,n):\n",
    "        if n%i==0:\n",
    "            return False\n",
    "        return True\n",
    "for j in range(1,101):\n",
    "    rs = isPrime(j)\n",
    "    if rs:\n",
    "        print(j,end=',')\n"
   ]
  },
  {
   "cell_type": "code",
   "execution_count": null,
   "metadata": {},
   "outputs": [],
   "source": []
  }
 ],
 "metadata": {
  "kernelspec": {
   "display_name": "Python 3",
   "language": "python",
   "name": "python3"
  },
  "language_info": {
   "codemirror_mode": {
    "name": "ipython",
    "version": 3
   },
   "file_extension": ".py",
   "mimetype": "text/x-python",
   "name": "python",
   "nbconvert_exporter": "python",
   "pygments_lexer": "ipython3",
   "version": "3.7.4"
  }
 },
 "nbformat": 4,
 "nbformat_minor": 4
}
